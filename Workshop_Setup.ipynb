{
  "nbformat": 4,
  "nbformat_minor": 0,
  "metadata": {
    "colab": {
      "provenance": [],
      "private_outputs": true,
      "authorship_tag": "ABX9TyPG0Aa/s+ZafYCZtoIFhvZN",
      "include_colab_link": true
    },
    "kernelspec": {
      "name": "python3",
      "display_name": "Python 3"
    },
    "language_info": {
      "name": "python"
    }
  },
  "cells": [
    {
      "cell_type": "markdown",
      "metadata": {
        "id": "view-in-github",
        "colab_type": "text"
      },
      "source": [
        "<a href=\"https://colab.research.google.com/github/jzamponi/synthesizer/blob/main/Workshop_Setup.ipynb\" target=\"_parent\"><img src=\"https://colab.research.google.com/assets/colab-badge.svg\" alt=\"Open In Colab\"/></a>"
      ]
    },
    {
      "cell_type": "code",
      "execution_count": null,
      "metadata": {
        "id": "XsgSKAb4dLIr"
      },
      "outputs": [],
      "source": [
        "### Synthesizer Workshop 23.11.23\n",
        "\n",
        "# The following script serves as an example usage of Synthesizer via its API\n",
        "\n",
        "# Setup the working environment (lines starting with ! are shell commands)\n",
        "!pip install -q astro-synthesizer\n",
        "from synthesizer.pipeline import Pipeline\n",
        "\n",
        "# For details on every option available, uncomment the line below. Long output!\n",
        "#!synthesizer --help\n"
      ]
    },
    {
      "cell_type": "code",
      "source": [
        "# Initialize the pipeline\n",
        "pipeline = Pipeline(\n",
        "    nthreads = 1,\n",
        "    amax = 10,\n",
        "    overwrite = True,\n",
        ")\n",
        "\n",
        "# Create a protoplanetary disk\n",
        "pipeline.create_grid(\n",
        "    model = 'ppdisk',\n",
        "    mdisk = 0.3,\n",
        "    rin = 1,\n",
        "    rout = 200,\n",
        "    h0 = 5,\n",
        "    flare = 0.3,\n",
        "    ncells = 200,\n",
        "    bbox = 200,\n",
        "    temperature = True,\n",
        "    show_2d = True,\n",
        "    show_3d = True,\n",
        ")\n",
        "\n",
        "# Generate a temperature\n",
        "pipeline.monte_carlo(\n",
        "    nphot = 1e7,\n",
        "    star = [0, 0, 0, 2.88, 1, 4000],\n",
        ")\n",
        "\n",
        "pipeline.raytrace(\n",
        "    lam = 3000,\n",
        "    incl = 40,\n",
        "    phi = 60\n",
        "    npix = 400,\n",
        "    sizeau = 400,\n",
        "    distance = 140,\n",
        "    tau = True,\n",
        "    show = True,\n",
        ")\n",
        "\n",
        "pipeline.synthetic_observation(\n",
        "    script = None,\n",
        "    simobserve = True,\n",
        "    clean = True,\n",
        "    exportfits = True,\n",
        "    obstime = '1h',\n",
        "    resolution = 0.1,\n",
        "    obsmode = 'int',\n",
        "    use_template = True,\n",
        "    telescope = 'ALMA',\n",
        "    show = True,\n",
        "    verbose = False,\n",
        ")\n",
        "\n"
      ],
      "metadata": {
        "id": "DhjhhbN__tej"
      },
      "execution_count": null,
      "outputs": []
    },
    {
      "cell_type": "code",
      "source": [
        "\n"
      ],
      "metadata": {
        "id": "mgQiTl3zsf3A"
      },
      "execution_count": null,
      "outputs": []
    },
    {
      "cell_type": "markdown",
      "source": [
        "# New Section"
      ],
      "metadata": {
        "id": "L9MyNnxtJ9S5"
      }
    }
  ]
}